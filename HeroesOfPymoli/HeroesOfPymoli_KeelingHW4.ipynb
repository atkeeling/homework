{
 "cells": [
  {
   "cell_type": "markdown",
   "metadata": {},
   "source": [
    "### Heroes Of Pymoli Data Analysis\n",
    "* The vast majority of revenue comes from males, but that is because the vast majority of players are males. There is virtually no difference in purchasing habits between females and males. All \n",
    "\n",
    "* The largest age group of players is 20-24. \n",
    "\n",
    "* There doesn't appear to be any correlation between age and purchasing.\n",
    "-----"
   ]
  },
  {
   "cell_type": "code",
   "execution_count": 1,
   "metadata": {},
   "outputs": [],
   "source": [
    "# Dependencies and Setup\n",
    "import pandas as pd\n",
    "\n",
    "# File to Load (Remember to Change These)\n",
    "file_to_load = \"Resources/purchase_data.csv\"\n",
    "\n",
    "# Read Purchasing File and store into Pandas data frame\n",
    "purchase_data = pd.read_csv(file_to_load)"
   ]
  },
  {
   "cell_type": "markdown",
   "metadata": {},
   "source": [
    "## Player Count"
   ]
  },
  {
   "cell_type": "markdown",
   "metadata": {},
   "source": [
    "* Display the total number of players\n"
   ]
  },
  {
   "cell_type": "code",
   "execution_count": 2,
   "metadata": {},
   "outputs": [
    {
     "name": "stdout",
     "output_type": "stream",
     "text": [
      "Total number of players is 576\n"
     ]
    }
   ],
   "source": [
    "number_of_players = len(list(purchase_data[\"SN\"].unique()))\n",
    "print(f\"Total number of players is {number_of_players}\")"
   ]
  },
  {
   "cell_type": "markdown",
   "metadata": {},
   "source": [
    "## Purchasing Analysis (Total)"
   ]
  },
  {
   "cell_type": "markdown",
   "metadata": {},
   "source": [
    "* Run basic calculations to obtain number of unique items, average price, etc.\n",
    "\n",
    "\n",
    "* Create a summary data frame to hold the results\n",
    "\n",
    "\n",
    "* Optional: give the displayed data cleaner formatting\n",
    "\n",
    "\n",
    "* Display the summary data frame\n"
   ]
  },
  {
   "cell_type": "code",
   "execution_count": 3,
   "metadata": {},
   "outputs": [
    {
     "data": {
      "text/plain": [
       "183"
      ]
     },
     "execution_count": 3,
     "metadata": {},
     "output_type": "execute_result"
    }
   ],
   "source": [
    "count_unique_itemid = len(list(purchase_data[\"Item ID\"].unique()))\n",
    "count_unique_itemid"
   ]
  },
  {
   "cell_type": "code",
   "execution_count": 4,
   "metadata": {},
   "outputs": [
    {
     "data": {
      "text/plain": [
       "179"
      ]
     },
     "execution_count": 4,
     "metadata": {},
     "output_type": "execute_result"
    }
   ],
   "source": [
    "count_unique_itemname = len(list(purchase_data[\"Item Name\"].unique()))\n",
    "count_unique_itemname"
   ]
  },
  {
   "cell_type": "code",
   "execution_count": 5,
   "metadata": {},
   "outputs": [
    {
     "data": {
      "text/plain": [
       "3.050987179487176"
      ]
     },
     "execution_count": 5,
     "metadata": {},
     "output_type": "execute_result"
    }
   ],
   "source": [
    "average_price = purchase_data[\"Price\"].mean()\n",
    "average_price"
   ]
  },
  {
   "cell_type": "code",
   "execution_count": 6,
   "metadata": {},
   "outputs": [
    {
     "data": {
      "text/plain": [
       "780"
      ]
     },
     "execution_count": 6,
     "metadata": {},
     "output_type": "execute_result"
    }
   ],
   "source": [
    "count_purchases = purchase_data[\"Purchase ID\"].count()\n",
    "count_purchases"
   ]
  },
  {
   "cell_type": "code",
   "execution_count": 7,
   "metadata": {},
   "outputs": [
    {
     "data": {
      "text/plain": [
       "2379.77"
      ]
     },
     "execution_count": 7,
     "metadata": {},
     "output_type": "execute_result"
    }
   ],
   "source": [
    "total_revenue = purchase_data[\"Price\"].sum()\n",
    "total_revenue"
   ]
  },
  {
   "cell_type": "code",
   "execution_count": 8,
   "metadata": {},
   "outputs": [
    {
     "data": {
      "text/html": [
       "<style  type=\"text/css\" >\n",
       "</style><table id=\"T_8869cf90_c124_11e9_b1ed_f48c508b3886\" ><thead>    <tr>        <th class=\"blank level0\" ></th>        <th class=\"col_heading level0 col0\" >Number of Unique Items</th>        <th class=\"col_heading level0 col1\" >Number of Unique Item Names</th>        <th class=\"col_heading level0 col2\" >Average Price</th>        <th class=\"col_heading level0 col3\" >Number of Purchases</th>        <th class=\"col_heading level0 col4\" >Total Revenue</th>    </tr></thead><tbody>\n",
       "                <tr>\n",
       "                        <th id=\"T_8869cf90_c124_11e9_b1ed_f48c508b3886level0_row0\" class=\"row_heading level0 row0\" >0</th>\n",
       "                        <td id=\"T_8869cf90_c124_11e9_b1ed_f48c508b3886row0_col0\" class=\"data row0 col0\" >183</td>\n",
       "                        <td id=\"T_8869cf90_c124_11e9_b1ed_f48c508b3886row0_col1\" class=\"data row0 col1\" >179</td>\n",
       "                        <td id=\"T_8869cf90_c124_11e9_b1ed_f48c508b3886row0_col2\" class=\"data row0 col2\" >$3.05</td>\n",
       "                        <td id=\"T_8869cf90_c124_11e9_b1ed_f48c508b3886row0_col3\" class=\"data row0 col3\" >780</td>\n",
       "                        <td id=\"T_8869cf90_c124_11e9_b1ed_f48c508b3886row0_col4\" class=\"data row0 col4\" >$2,379.77</td>\n",
       "            </tr>\n",
       "    </tbody></table>"
      ],
      "text/plain": [
       "<pandas.io.formats.style.Styler at 0x81b2470>"
      ]
     },
     "execution_count": 8,
     "metadata": {},
     "output_type": "execute_result"
    }
   ],
   "source": [
    "summary_df = pd.DataFrame({\"Number of Unique Items\": count_unique_itemid, \n",
    "                           \"Number of Unique Item Names\": count_unique_itemname,\n",
    "                           \"Average Price\": average_price,\n",
    "                           \"Number of Purchases\": count_purchases,\n",
    "                           \"Total Revenue\": total_revenue},index=[0])\n",
    "summary_df.style.format({\"Average Price\": \"${:.2f}\", \"Total Revenue\": '${:,.2f}'})"
   ]
  },
  {
   "cell_type": "markdown",
   "metadata": {},
   "source": [
    "## Gender Demographics"
   ]
  },
  {
   "cell_type": "markdown",
   "metadata": {},
   "source": [
    "* Percentage and Count of Male Players\n",
    "\n",
    "\n",
    "* Percentage and Count of Female Players\n",
    "\n",
    "\n",
    "* Percentage and Count of Other / Non-Disclosed\n",
    "\n",
    "\n"
   ]
  },
  {
   "cell_type": "code",
   "execution_count": 9,
   "metadata": {},
   "outputs": [
    {
     "data": {
      "text/html": [
       "<div>\n",
       "<style scoped>\n",
       "    .dataframe tbody tr th:only-of-type {\n",
       "        vertical-align: middle;\n",
       "    }\n",
       "\n",
       "    .dataframe tbody tr th {\n",
       "        vertical-align: top;\n",
       "    }\n",
       "\n",
       "    .dataframe thead th {\n",
       "        text-align: right;\n",
       "    }\n",
       "</style>\n",
       "<table border=\"1\" class=\"dataframe\">\n",
       "  <thead>\n",
       "    <tr style=\"text-align: right;\">\n",
       "      <th></th>\n",
       "      <th>SN</th>\n",
       "      <th>Age</th>\n",
       "      <th>Gender</th>\n",
       "    </tr>\n",
       "  </thead>\n",
       "  <tbody>\n",
       "    <tr>\n",
       "      <th>0</th>\n",
       "      <td>Lisim78</td>\n",
       "      <td>20</td>\n",
       "      <td>Male</td>\n",
       "    </tr>\n",
       "    <tr>\n",
       "      <th>1</th>\n",
       "      <td>Lisovynya38</td>\n",
       "      <td>40</td>\n",
       "      <td>Male</td>\n",
       "    </tr>\n",
       "    <tr>\n",
       "      <th>2</th>\n",
       "      <td>Ithergue48</td>\n",
       "      <td>24</td>\n",
       "      <td>Male</td>\n",
       "    </tr>\n",
       "    <tr>\n",
       "      <th>3</th>\n",
       "      <td>Chamassasya86</td>\n",
       "      <td>24</td>\n",
       "      <td>Male</td>\n",
       "    </tr>\n",
       "    <tr>\n",
       "      <th>4</th>\n",
       "      <td>Iskosia90</td>\n",
       "      <td>23</td>\n",
       "      <td>Male</td>\n",
       "    </tr>\n",
       "  </tbody>\n",
       "</table>\n",
       "</div>"
      ],
      "text/plain": [
       "              SN  Age Gender\n",
       "0        Lisim78   20   Male\n",
       "1    Lisovynya38   40   Male\n",
       "2     Ithergue48   24   Male\n",
       "3  Chamassasya86   24   Male\n",
       "4      Iskosia90   23   Male"
      ]
     },
     "execution_count": 9,
     "metadata": {},
     "output_type": "execute_result"
    }
   ],
   "source": [
    "player_data = purchase_data[[\"SN\",\"Age\",\"Gender\"]]\n",
    "player_data.head()"
   ]
  },
  {
   "cell_type": "code",
   "execution_count": 10,
   "metadata": {},
   "outputs": [
    {
     "data": {
      "text/html": [
       "<div>\n",
       "<style scoped>\n",
       "    .dataframe tbody tr th:only-of-type {\n",
       "        vertical-align: middle;\n",
       "    }\n",
       "\n",
       "    .dataframe tbody tr th {\n",
       "        vertical-align: top;\n",
       "    }\n",
       "\n",
       "    .dataframe thead th {\n",
       "        text-align: right;\n",
       "    }\n",
       "</style>\n",
       "<table border=\"1\" class=\"dataframe\">\n",
       "  <thead>\n",
       "    <tr style=\"text-align: right;\">\n",
       "      <th></th>\n",
       "      <th>Age</th>\n",
       "    </tr>\n",
       "  </thead>\n",
       "  <tbody>\n",
       "    <tr>\n",
       "      <th>count</th>\n",
       "      <td>780.000000</td>\n",
       "    </tr>\n",
       "    <tr>\n",
       "      <th>mean</th>\n",
       "      <td>22.714103</td>\n",
       "    </tr>\n",
       "    <tr>\n",
       "      <th>std</th>\n",
       "      <td>6.659444</td>\n",
       "    </tr>\n",
       "    <tr>\n",
       "      <th>min</th>\n",
       "      <td>7.000000</td>\n",
       "    </tr>\n",
       "    <tr>\n",
       "      <th>25%</th>\n",
       "      <td>20.000000</td>\n",
       "    </tr>\n",
       "    <tr>\n",
       "      <th>50%</th>\n",
       "      <td>22.000000</td>\n",
       "    </tr>\n",
       "    <tr>\n",
       "      <th>75%</th>\n",
       "      <td>25.000000</td>\n",
       "    </tr>\n",
       "    <tr>\n",
       "      <th>max</th>\n",
       "      <td>45.000000</td>\n",
       "    </tr>\n",
       "  </tbody>\n",
       "</table>\n",
       "</div>"
      ],
      "text/plain": [
       "              Age\n",
       "count  780.000000\n",
       "mean    22.714103\n",
       "std      6.659444\n",
       "min      7.000000\n",
       "25%     20.000000\n",
       "50%     22.000000\n",
       "75%     25.000000\n",
       "max     45.000000"
      ]
     },
     "execution_count": 10,
     "metadata": {},
     "output_type": "execute_result"
    }
   ],
   "source": [
    "player_data.describe()"
   ]
  },
  {
   "cell_type": "code",
   "execution_count": 11,
   "metadata": {},
   "outputs": [
    {
     "data": {
      "text/html": [
       "<div>\n",
       "<style scoped>\n",
       "    .dataframe tbody tr th:only-of-type {\n",
       "        vertical-align: middle;\n",
       "    }\n",
       "\n",
       "    .dataframe tbody tr th {\n",
       "        vertical-align: top;\n",
       "    }\n",
       "\n",
       "    .dataframe thead th {\n",
       "        text-align: right;\n",
       "    }\n",
       "</style>\n",
       "<table border=\"1\" class=\"dataframe\">\n",
       "  <thead>\n",
       "    <tr style=\"text-align: right;\">\n",
       "      <th></th>\n",
       "      <th>Age</th>\n",
       "    </tr>\n",
       "  </thead>\n",
       "  <tbody>\n",
       "    <tr>\n",
       "      <th>count</th>\n",
       "      <td>576.000000</td>\n",
       "    </tr>\n",
       "    <tr>\n",
       "      <th>mean</th>\n",
       "      <td>22.741319</td>\n",
       "    </tr>\n",
       "    <tr>\n",
       "      <th>std</th>\n",
       "      <td>6.838568</td>\n",
       "    </tr>\n",
       "    <tr>\n",
       "      <th>min</th>\n",
       "      <td>7.000000</td>\n",
       "    </tr>\n",
       "    <tr>\n",
       "      <th>25%</th>\n",
       "      <td>19.000000</td>\n",
       "    </tr>\n",
       "    <tr>\n",
       "      <th>50%</th>\n",
       "      <td>22.000000</td>\n",
       "    </tr>\n",
       "    <tr>\n",
       "      <th>75%</th>\n",
       "      <td>25.000000</td>\n",
       "    </tr>\n",
       "    <tr>\n",
       "      <th>max</th>\n",
       "      <td>45.000000</td>\n",
       "    </tr>\n",
       "  </tbody>\n",
       "</table>\n",
       "</div>"
      ],
      "text/plain": [
       "              Age\n",
       "count  576.000000\n",
       "mean    22.741319\n",
       "std      6.838568\n",
       "min      7.000000\n",
       "25%     19.000000\n",
       "50%     22.000000\n",
       "75%     25.000000\n",
       "max     45.000000"
      ]
     },
     "execution_count": 11,
     "metadata": {},
     "output_type": "execute_result"
    }
   ],
   "source": [
    "player_data_unique = player_data.drop_duplicates(\"SN\")\n",
    "player_data_unique.describe()"
   ]
  },
  {
   "cell_type": "code",
   "execution_count": 12,
   "metadata": {},
   "outputs": [
    {
     "data": {
      "text/plain": [
       "Male                     484\n",
       "Female                    81\n",
       "Other / Non-Disclosed     11\n",
       "Name: Gender, dtype: int64"
      ]
     },
     "execution_count": 12,
     "metadata": {},
     "output_type": "execute_result"
    }
   ],
   "source": [
    "player_by_gender_count = player_data_unique[\"Gender\"].value_counts()\n",
    "player_by_gender_count"
   ]
  },
  {
   "cell_type": "code",
   "execution_count": 13,
   "metadata": {},
   "outputs": [
    {
     "data": {
      "text/plain": [
       "Male                     0.840278\n",
       "Female                   0.140625\n",
       "Other / Non-Disclosed    0.019097\n",
       "Name: Gender, dtype: float64"
      ]
     },
     "execution_count": 13,
     "metadata": {},
     "output_type": "execute_result"
    }
   ],
   "source": [
    "player_by_gender_percent = player_data_unique[\"Gender\"].value_counts(True)\n",
    "player_by_gender_percent"
   ]
  },
  {
   "cell_type": "code",
   "execution_count": 14,
   "metadata": {},
   "outputs": [
    {
     "data": {
      "text/html": [
       "<style  type=\"text/css\" >\n",
       "</style><table id=\"T_978378f0_c124_11e9_bda3_f48c508b3886\" ><thead>    <tr>        <th class=\"blank level0\" ></th>        <th class=\"col_heading level0 col0\" >Count</th>        <th class=\"col_heading level0 col1\" >Percent</th>    </tr></thead><tbody>\n",
       "                <tr>\n",
       "                        <th id=\"T_978378f0_c124_11e9_bda3_f48c508b3886level0_row0\" class=\"row_heading level0 row0\" >Male</th>\n",
       "                        <td id=\"T_978378f0_c124_11e9_bda3_f48c508b3886row0_col0\" class=\"data row0 col0\" >484</td>\n",
       "                        <td id=\"T_978378f0_c124_11e9_bda3_f48c508b3886row0_col1\" class=\"data row0 col1\" >84.03%</td>\n",
       "            </tr>\n",
       "            <tr>\n",
       "                        <th id=\"T_978378f0_c124_11e9_bda3_f48c508b3886level0_row1\" class=\"row_heading level0 row1\" >Female</th>\n",
       "                        <td id=\"T_978378f0_c124_11e9_bda3_f48c508b3886row1_col0\" class=\"data row1 col0\" >81</td>\n",
       "                        <td id=\"T_978378f0_c124_11e9_bda3_f48c508b3886row1_col1\" class=\"data row1 col1\" >14.06%</td>\n",
       "            </tr>\n",
       "            <tr>\n",
       "                        <th id=\"T_978378f0_c124_11e9_bda3_f48c508b3886level0_row2\" class=\"row_heading level0 row2\" >Other / Non-Disclosed</th>\n",
       "                        <td id=\"T_978378f0_c124_11e9_bda3_f48c508b3886row2_col0\" class=\"data row2 col0\" >11</td>\n",
       "                        <td id=\"T_978378f0_c124_11e9_bda3_f48c508b3886row2_col1\" class=\"data row2 col1\" >1.91%</td>\n",
       "            </tr>\n",
       "    </tbody></table>"
      ],
      "text/plain": [
       "<pandas.io.formats.style.Styler at 0x90b7a20>"
      ]
     },
     "execution_count": 14,
     "metadata": {},
     "output_type": "execute_result"
    }
   ],
   "source": [
    "gender_demographics_df = pd.DataFrame({\"Count\": player_by_gender_count,\n",
    "                                  \"Percent\": player_by_gender_percent\n",
    "                                  })\n",
    "gender_demographics_df.style.format({\"Percent\": \"{:,.2%}\"})"
   ]
  },
  {
   "cell_type": "markdown",
   "metadata": {},
   "source": [
    "\n",
    "## Purchasing Analysis (Gender)"
   ]
  },
  {
   "cell_type": "markdown",
   "metadata": {},
   "source": [
    "* Run basic calculations to obtain purchase count, avg. purchase price, avg. purchase total per person etc. by gender\n",
    "\n",
    "\n",
    "\n",
    "\n",
    "* Create a summary data frame to hold the results\n",
    "\n",
    "\n",
    "* Optional: give the displayed data cleaner formatting\n",
    "\n",
    "\n",
    "* Display the summary data frame"
   ]
  },
  {
   "cell_type": "code",
   "execution_count": 15,
   "metadata": {},
   "outputs": [],
   "source": [
    "grouped_gender_df = purchase_data.groupby([\"Gender\"])\n"
   ]
  },
  {
   "cell_type": "code",
   "execution_count": 16,
   "metadata": {},
   "outputs": [
    {
     "data": {
      "text/plain": [
       "Gender\n",
       "Female                   113\n",
       "Male                     652\n",
       "Other / Non-Disclosed     15\n",
       "Name: Price, dtype: int64"
      ]
     },
     "execution_count": 16,
     "metadata": {},
     "output_type": "execute_result"
    }
   ],
   "source": [
    "purchase_count = grouped_gender_df[\"Price\"].count()\n",
    "purchase_count"
   ]
  },
  {
   "cell_type": "code",
   "execution_count": 17,
   "metadata": {},
   "outputs": [
    {
     "data": {
      "text/plain": [
       "Gender\n",
       "Female                   3.203009\n",
       "Male                     3.017853\n",
       "Other / Non-Disclosed    3.346000\n",
       "Name: Price, dtype: float64"
      ]
     },
     "execution_count": 17,
     "metadata": {},
     "output_type": "execute_result"
    }
   ],
   "source": [
    "avg_purchase_price = grouped_gender_df[\"Price\"].mean()\n",
    "avg_purchase_price"
   ]
  },
  {
   "cell_type": "code",
   "execution_count": 18,
   "metadata": {},
   "outputs": [
    {
     "data": {
      "text/plain": [
       "Gender\n",
       "Female                    361.94\n",
       "Male                     1967.64\n",
       "Other / Non-Disclosed      50.19\n",
       "Name: Price, dtype: float64"
      ]
     },
     "execution_count": 18,
     "metadata": {},
     "output_type": "execute_result"
    }
   ],
   "source": [
    "total_purchase_value = grouped_gender_df[\"Price\"].sum()\n",
    "total_purchase_value"
   ]
  },
  {
   "cell_type": "code",
   "execution_count": 19,
   "metadata": {},
   "outputs": [
    {
     "data": {
      "text/plain": [
       "Female                   4.468395\n",
       "Male                     4.065372\n",
       "Other / Non-Disclosed    4.562727\n",
       "dtype: float64"
      ]
     },
     "execution_count": 19,
     "metadata": {},
     "output_type": "execute_result"
    }
   ],
   "source": [
    "avg_purchase_per_person = total_purchase_value/player_by_gender_count\n",
    "avg_purchase_per_person"
   ]
  },
  {
   "cell_type": "code",
   "execution_count": 20,
   "metadata": {},
   "outputs": [
    {
     "data": {
      "text/html": [
       "<style  type=\"text/css\" >\n",
       "</style><table id=\"T_a61cf5d0_c124_11e9_a88a_f48c508b3886\" ><thead>    <tr>        <th class=\"blank level0\" ></th>        <th class=\"col_heading level0 col0\" >Purchase Count</th>        <th class=\"col_heading level0 col1\" >Average Purchase Price</th>        <th class=\"col_heading level0 col2\" >Total Purchase Value</th>        <th class=\"col_heading level0 col3\" >Average Total Purchase Per Person</th>    </tr>    <tr>        <th class=\"index_name level0\" >Gender</th>        <th class=\"blank\" ></th>        <th class=\"blank\" ></th>        <th class=\"blank\" ></th>        <th class=\"blank\" ></th>    </tr></thead><tbody>\n",
       "                <tr>\n",
       "                        <th id=\"T_a61cf5d0_c124_11e9_a88a_f48c508b3886level0_row0\" class=\"row_heading level0 row0\" >Female</th>\n",
       "                        <td id=\"T_a61cf5d0_c124_11e9_a88a_f48c508b3886row0_col0\" class=\"data row0 col0\" >113</td>\n",
       "                        <td id=\"T_a61cf5d0_c124_11e9_a88a_f48c508b3886row0_col1\" class=\"data row0 col1\" >$3.20</td>\n",
       "                        <td id=\"T_a61cf5d0_c124_11e9_a88a_f48c508b3886row0_col2\" class=\"data row0 col2\" >$361.94</td>\n",
       "                        <td id=\"T_a61cf5d0_c124_11e9_a88a_f48c508b3886row0_col3\" class=\"data row0 col3\" >$4.47</td>\n",
       "            </tr>\n",
       "            <tr>\n",
       "                        <th id=\"T_a61cf5d0_c124_11e9_a88a_f48c508b3886level0_row1\" class=\"row_heading level0 row1\" >Male</th>\n",
       "                        <td id=\"T_a61cf5d0_c124_11e9_a88a_f48c508b3886row1_col0\" class=\"data row1 col0\" >652</td>\n",
       "                        <td id=\"T_a61cf5d0_c124_11e9_a88a_f48c508b3886row1_col1\" class=\"data row1 col1\" >$3.02</td>\n",
       "                        <td id=\"T_a61cf5d0_c124_11e9_a88a_f48c508b3886row1_col2\" class=\"data row1 col2\" >$1,967.64</td>\n",
       "                        <td id=\"T_a61cf5d0_c124_11e9_a88a_f48c508b3886row1_col3\" class=\"data row1 col3\" >$4.07</td>\n",
       "            </tr>\n",
       "            <tr>\n",
       "                        <th id=\"T_a61cf5d0_c124_11e9_a88a_f48c508b3886level0_row2\" class=\"row_heading level0 row2\" >Other / Non-Disclosed</th>\n",
       "                        <td id=\"T_a61cf5d0_c124_11e9_a88a_f48c508b3886row2_col0\" class=\"data row2 col0\" >15</td>\n",
       "                        <td id=\"T_a61cf5d0_c124_11e9_a88a_f48c508b3886row2_col1\" class=\"data row2 col1\" >$3.35</td>\n",
       "                        <td id=\"T_a61cf5d0_c124_11e9_a88a_f48c508b3886row2_col2\" class=\"data row2 col2\" >$50.19</td>\n",
       "                        <td id=\"T_a61cf5d0_c124_11e9_a88a_f48c508b3886row2_col3\" class=\"data row2 col3\" >$4.56</td>\n",
       "            </tr>\n",
       "    </tbody></table>"
      ],
      "text/plain": [
       "<pandas.io.formats.style.Styler at 0x92f8c18>"
      ]
     },
     "execution_count": 20,
     "metadata": {},
     "output_type": "execute_result"
    }
   ],
   "source": [
    "grouped_gender_summary_df = pd.DataFrame({\"Purchase Count\": purchase_count,\n",
    "                                  \"Average Purchase Price\": avg_purchase_price,\n",
    "                                  \"Total Purchase Value\": total_purchase_value,\n",
    "                                 \"Average Total Purchase Per Person\": avg_purchase_per_person})\n",
    "grouped_gender_summary_df.style.format({\"Average Purchase Price\": \"${:,.2f}\",\n",
    "                                        \"Total Purchase Value\": \"${:,.2f}\",\n",
    "                                      \"Average Total Purchase Per Person\": \"${:,.2f}\"})"
   ]
  },
  {
   "cell_type": "markdown",
   "metadata": {},
   "source": [
    "## Age Demographics"
   ]
  },
  {
   "cell_type": "markdown",
   "metadata": {},
   "source": [
    "* Establish bins for ages\n",
    "\n",
    "\n",
    "* Categorize the existing players using the age bins. Hint: use pd.cut()\n",
    "\n",
    "\n",
    "* Calculate the numbers and percentages by age group\n",
    "\n",
    "\n",
    "* Create a summary data frame to hold the results\n",
    "\n",
    "\n",
    "* Optional: round the percentage column to two decimal points\n",
    "\n",
    "\n",
    "* Display Age Demographics Table\n"
   ]
  },
  {
   "cell_type": "code",
   "execution_count": 21,
   "metadata": {},
   "outputs": [],
   "source": [
    "age_bins = [0,9,14,19,24,29,34,39,999]\n",
    "bin_names = [\"<10\",\"10-14\",\"15-19\",\"20-24\",\"25-29\",\"30-34\",\"35-39\",\"40+\"]"
   ]
  },
  {
   "cell_type": "code",
   "execution_count": 22,
   "metadata": {},
   "outputs": [
    {
     "name": "stderr",
     "output_type": "stream",
     "text": [
      "C:\\Users\\atk285\\AppData\\Local\\Continuum\\anaconda3\\lib\\site-packages\\ipykernel_launcher.py:1: SettingWithCopyWarning: \n",
      "A value is trying to be set on a copy of a slice from a DataFrame.\n",
      "Try using .loc[row_indexer,col_indexer] = value instead\n",
      "\n",
      "See the caveats in the documentation: http://pandas.pydata.org/pandas-docs/stable/indexing.html#indexing-view-versus-copy\n",
      "  \"\"\"Entry point for launching an IPython kernel.\n"
     ]
    },
    {
     "data": {
      "text/html": [
       "<div>\n",
       "<style scoped>\n",
       "    .dataframe tbody tr th:only-of-type {\n",
       "        vertical-align: middle;\n",
       "    }\n",
       "\n",
       "    .dataframe tbody tr th {\n",
       "        vertical-align: top;\n",
       "    }\n",
       "\n",
       "    .dataframe thead th {\n",
       "        text-align: right;\n",
       "    }\n",
       "</style>\n",
       "<table border=\"1\" class=\"dataframe\">\n",
       "  <thead>\n",
       "    <tr style=\"text-align: right;\">\n",
       "      <th></th>\n",
       "      <th>SN</th>\n",
       "      <th>Age</th>\n",
       "      <th>Gender</th>\n",
       "      <th>Age bin</th>\n",
       "    </tr>\n",
       "  </thead>\n",
       "  <tbody>\n",
       "    <tr>\n",
       "      <th>0</th>\n",
       "      <td>Lisim78</td>\n",
       "      <td>20</td>\n",
       "      <td>Male</td>\n",
       "      <td>20-24</td>\n",
       "    </tr>\n",
       "    <tr>\n",
       "      <th>1</th>\n",
       "      <td>Lisovynya38</td>\n",
       "      <td>40</td>\n",
       "      <td>Male</td>\n",
       "      <td>40+</td>\n",
       "    </tr>\n",
       "    <tr>\n",
       "      <th>2</th>\n",
       "      <td>Ithergue48</td>\n",
       "      <td>24</td>\n",
       "      <td>Male</td>\n",
       "      <td>20-24</td>\n",
       "    </tr>\n",
       "    <tr>\n",
       "      <th>3</th>\n",
       "      <td>Chamassasya86</td>\n",
       "      <td>24</td>\n",
       "      <td>Male</td>\n",
       "      <td>20-24</td>\n",
       "    </tr>\n",
       "    <tr>\n",
       "      <th>4</th>\n",
       "      <td>Iskosia90</td>\n",
       "      <td>23</td>\n",
       "      <td>Male</td>\n",
       "      <td>20-24</td>\n",
       "    </tr>\n",
       "  </tbody>\n",
       "</table>\n",
       "</div>"
      ],
      "text/plain": [
       "              SN  Age Gender Age bin\n",
       "0        Lisim78   20   Male   20-24\n",
       "1    Lisovynya38   40   Male     40+\n",
       "2     Ithergue48   24   Male   20-24\n",
       "3  Chamassasya86   24   Male   20-24\n",
       "4      Iskosia90   23   Male   20-24"
      ]
     },
     "execution_count": 22,
     "metadata": {},
     "output_type": "execute_result"
    }
   ],
   "source": [
    "player_data_unique[\"Age bin\"] = pd.cut(player_data_unique[\"Age\"],age_bins,labels=bin_names)\n",
    "player_data_unique.head()"
   ]
  },
  {
   "cell_type": "code",
   "execution_count": 23,
   "metadata": {},
   "outputs": [
    {
     "data": {
      "text/plain": [
       "576"
      ]
     },
     "execution_count": 23,
     "metadata": {},
     "output_type": "execute_result"
    }
   ],
   "source": [
    "len(player_data_unique)"
   ]
  },
  {
   "cell_type": "code",
   "execution_count": 24,
   "metadata": {},
   "outputs": [
    {
     "data": {
      "text/plain": [
       "Age bin\n",
       "<10       17\n",
       "10-14     22\n",
       "15-19    107\n",
       "20-24    258\n",
       "25-29     77\n",
       "30-34     52\n",
       "35-39     31\n",
       "40+       12\n",
       "Name: SN, dtype: int64"
      ]
     },
     "execution_count": 24,
     "metadata": {},
     "output_type": "execute_result"
    }
   ],
   "source": [
    "age_bin_count = player_data_unique.groupby([\"Age bin\"])[\"SN\"].count()\n",
    "age_bin_count"
   ]
  },
  {
   "cell_type": "code",
   "execution_count": 25,
   "metadata": {},
   "outputs": [
    {
     "data": {
      "text/plain": [
       "Age bin\n",
       "<10      0.029514\n",
       "10-14    0.038194\n",
       "15-19    0.185764\n",
       "20-24    0.447917\n",
       "25-29    0.133681\n",
       "30-34    0.090278\n",
       "35-39    0.053819\n",
       "40+      0.020833\n",
       "Name: SN, dtype: float64"
      ]
     },
     "execution_count": 25,
     "metadata": {},
     "output_type": "execute_result"
    }
   ],
   "source": [
    "age_bin_freq = player_data_unique.groupby([\"Age bin\"])[\"SN\"].count()/len(player_data_unique)\n",
    "age_bin_freq"
   ]
  },
  {
   "cell_type": "code",
   "execution_count": 26,
   "metadata": {},
   "outputs": [
    {
     "data": {
      "text/html": [
       "<style  type=\"text/css\" >\n",
       "</style><table id=\"T_ad427d30_c124_11e9_9436_f48c508b3886\" ><thead>    <tr>        <th class=\"blank level0\" ></th>        <th class=\"col_heading level0 col0\" >Total Count</th>        <th class=\"col_heading level0 col1\" >Percentage of Players</th>    </tr>    <tr>        <th class=\"index_name level0\" >Age bin</th>        <th class=\"blank\" ></th>        <th class=\"blank\" ></th>    </tr></thead><tbody>\n",
       "                <tr>\n",
       "                        <th id=\"T_ad427d30_c124_11e9_9436_f48c508b3886level0_row0\" class=\"row_heading level0 row0\" ><10</th>\n",
       "                        <td id=\"T_ad427d30_c124_11e9_9436_f48c508b3886row0_col0\" class=\"data row0 col0\" >17</td>\n",
       "                        <td id=\"T_ad427d30_c124_11e9_9436_f48c508b3886row0_col1\" class=\"data row0 col1\" >2.95%</td>\n",
       "            </tr>\n",
       "            <tr>\n",
       "                        <th id=\"T_ad427d30_c124_11e9_9436_f48c508b3886level0_row1\" class=\"row_heading level0 row1\" >10-14</th>\n",
       "                        <td id=\"T_ad427d30_c124_11e9_9436_f48c508b3886row1_col0\" class=\"data row1 col0\" >22</td>\n",
       "                        <td id=\"T_ad427d30_c124_11e9_9436_f48c508b3886row1_col1\" class=\"data row1 col1\" >3.82%</td>\n",
       "            </tr>\n",
       "            <tr>\n",
       "                        <th id=\"T_ad427d30_c124_11e9_9436_f48c508b3886level0_row2\" class=\"row_heading level0 row2\" >15-19</th>\n",
       "                        <td id=\"T_ad427d30_c124_11e9_9436_f48c508b3886row2_col0\" class=\"data row2 col0\" >107</td>\n",
       "                        <td id=\"T_ad427d30_c124_11e9_9436_f48c508b3886row2_col1\" class=\"data row2 col1\" >18.58%</td>\n",
       "            </tr>\n",
       "            <tr>\n",
       "                        <th id=\"T_ad427d30_c124_11e9_9436_f48c508b3886level0_row3\" class=\"row_heading level0 row3\" >20-24</th>\n",
       "                        <td id=\"T_ad427d30_c124_11e9_9436_f48c508b3886row3_col0\" class=\"data row3 col0\" >258</td>\n",
       "                        <td id=\"T_ad427d30_c124_11e9_9436_f48c508b3886row3_col1\" class=\"data row3 col1\" >44.79%</td>\n",
       "            </tr>\n",
       "            <tr>\n",
       "                        <th id=\"T_ad427d30_c124_11e9_9436_f48c508b3886level0_row4\" class=\"row_heading level0 row4\" >25-29</th>\n",
       "                        <td id=\"T_ad427d30_c124_11e9_9436_f48c508b3886row4_col0\" class=\"data row4 col0\" >77</td>\n",
       "                        <td id=\"T_ad427d30_c124_11e9_9436_f48c508b3886row4_col1\" class=\"data row4 col1\" >13.37%</td>\n",
       "            </tr>\n",
       "            <tr>\n",
       "                        <th id=\"T_ad427d30_c124_11e9_9436_f48c508b3886level0_row5\" class=\"row_heading level0 row5\" >30-34</th>\n",
       "                        <td id=\"T_ad427d30_c124_11e9_9436_f48c508b3886row5_col0\" class=\"data row5 col0\" >52</td>\n",
       "                        <td id=\"T_ad427d30_c124_11e9_9436_f48c508b3886row5_col1\" class=\"data row5 col1\" >9.03%</td>\n",
       "            </tr>\n",
       "            <tr>\n",
       "                        <th id=\"T_ad427d30_c124_11e9_9436_f48c508b3886level0_row6\" class=\"row_heading level0 row6\" >35-39</th>\n",
       "                        <td id=\"T_ad427d30_c124_11e9_9436_f48c508b3886row6_col0\" class=\"data row6 col0\" >31</td>\n",
       "                        <td id=\"T_ad427d30_c124_11e9_9436_f48c508b3886row6_col1\" class=\"data row6 col1\" >5.38%</td>\n",
       "            </tr>\n",
       "            <tr>\n",
       "                        <th id=\"T_ad427d30_c124_11e9_9436_f48c508b3886level0_row7\" class=\"row_heading level0 row7\" >40+</th>\n",
       "                        <td id=\"T_ad427d30_c124_11e9_9436_f48c508b3886row7_col0\" class=\"data row7 col0\" >12</td>\n",
       "                        <td id=\"T_ad427d30_c124_11e9_9436_f48c508b3886row7_col1\" class=\"data row7 col1\" >2.08%</td>\n",
       "            </tr>\n",
       "    </tbody></table>"
      ],
      "text/plain": [
       "<pandas.io.formats.style.Styler at 0x81b29e8>"
      ]
     },
     "execution_count": 26,
     "metadata": {},
     "output_type": "execute_result"
    }
   ],
   "source": [
    "age_demographics_df = pd.DataFrame({\"Total Count\": age_bin_count,\n",
    "                                  \"Percentage of Players\": age_bin_freq\n",
    "                                  })\n",
    "age_demographics_df.style.format({\"Percentage of Players\": \"{:,.2%}\"})"
   ]
  },
  {
   "cell_type": "markdown",
   "metadata": {},
   "source": [
    "## Purchasing Analysis (Age)"
   ]
  },
  {
   "cell_type": "markdown",
   "metadata": {},
   "source": [
    "* Bin the purchase_data data frame by age\n",
    "\n",
    "\n",
    "* Run basic calculations to obtain purchase count, avg. purchase price, avg. purchase total per person etc. in the table below\n",
    "\n",
    "\n",
    "* Create a summary data frame to hold the results\n",
    "\n",
    "\n",
    "* Optional: give the displayed data cleaner formatting\n",
    "\n",
    "\n",
    "* Display the summary data frame"
   ]
  },
  {
   "cell_type": "code",
   "execution_count": 27,
   "metadata": {},
   "outputs": [
    {
     "data": {
      "text/html": [
       "<div>\n",
       "<style scoped>\n",
       "    .dataframe tbody tr th:only-of-type {\n",
       "        vertical-align: middle;\n",
       "    }\n",
       "\n",
       "    .dataframe tbody tr th {\n",
       "        vertical-align: top;\n",
       "    }\n",
       "\n",
       "    .dataframe thead th {\n",
       "        text-align: right;\n",
       "    }\n",
       "</style>\n",
       "<table border=\"1\" class=\"dataframe\">\n",
       "  <thead>\n",
       "    <tr style=\"text-align: right;\">\n",
       "      <th></th>\n",
       "      <th>Purchase ID</th>\n",
       "      <th>SN</th>\n",
       "      <th>Age</th>\n",
       "      <th>Gender</th>\n",
       "      <th>Item ID</th>\n",
       "      <th>Item Name</th>\n",
       "      <th>Price</th>\n",
       "      <th>Age bin</th>\n",
       "    </tr>\n",
       "  </thead>\n",
       "  <tbody>\n",
       "    <tr>\n",
       "      <th>0</th>\n",
       "      <td>0</td>\n",
       "      <td>Lisim78</td>\n",
       "      <td>20</td>\n",
       "      <td>Male</td>\n",
       "      <td>108</td>\n",
       "      <td>Extraction, Quickblade Of Trembling Hands</td>\n",
       "      <td>3.53</td>\n",
       "      <td>20-24</td>\n",
       "    </tr>\n",
       "    <tr>\n",
       "      <th>1</th>\n",
       "      <td>1</td>\n",
       "      <td>Lisovynya38</td>\n",
       "      <td>40</td>\n",
       "      <td>Male</td>\n",
       "      <td>143</td>\n",
       "      <td>Frenzied Scimitar</td>\n",
       "      <td>1.56</td>\n",
       "      <td>40+</td>\n",
       "    </tr>\n",
       "    <tr>\n",
       "      <th>2</th>\n",
       "      <td>2</td>\n",
       "      <td>Ithergue48</td>\n",
       "      <td>24</td>\n",
       "      <td>Male</td>\n",
       "      <td>92</td>\n",
       "      <td>Final Critic</td>\n",
       "      <td>4.88</td>\n",
       "      <td>20-24</td>\n",
       "    </tr>\n",
       "    <tr>\n",
       "      <th>3</th>\n",
       "      <td>3</td>\n",
       "      <td>Chamassasya86</td>\n",
       "      <td>24</td>\n",
       "      <td>Male</td>\n",
       "      <td>100</td>\n",
       "      <td>Blindscythe</td>\n",
       "      <td>3.27</td>\n",
       "      <td>20-24</td>\n",
       "    </tr>\n",
       "    <tr>\n",
       "      <th>4</th>\n",
       "      <td>4</td>\n",
       "      <td>Iskosia90</td>\n",
       "      <td>23</td>\n",
       "      <td>Male</td>\n",
       "      <td>131</td>\n",
       "      <td>Fury</td>\n",
       "      <td>1.44</td>\n",
       "      <td>20-24</td>\n",
       "    </tr>\n",
       "  </tbody>\n",
       "</table>\n",
       "</div>"
      ],
      "text/plain": [
       "   Purchase ID             SN  Age Gender  Item ID  \\\n",
       "0            0        Lisim78   20   Male      108   \n",
       "1            1    Lisovynya38   40   Male      143   \n",
       "2            2     Ithergue48   24   Male       92   \n",
       "3            3  Chamassasya86   24   Male      100   \n",
       "4            4      Iskosia90   23   Male      131   \n",
       "\n",
       "                                   Item Name  Price Age bin  \n",
       "0  Extraction, Quickblade Of Trembling Hands   3.53   20-24  \n",
       "1                          Frenzied Scimitar   1.56     40+  \n",
       "2                               Final Critic   4.88   20-24  \n",
       "3                                Blindscythe   3.27   20-24  \n",
       "4                                       Fury   1.44   20-24  "
      ]
     },
     "execution_count": 27,
     "metadata": {},
     "output_type": "execute_result"
    }
   ],
   "source": [
    "purchase_data[\"Age bin\"] = pd.cut(purchase_data[\"Age\"],age_bins,labels=bin_names)\n",
    "purchase_data.head()"
   ]
  },
  {
   "cell_type": "code",
   "execution_count": 28,
   "metadata": {},
   "outputs": [],
   "source": [
    "purchase_by_age_bin = purchase_data.groupby([\"Age bin\"])"
   ]
  },
  {
   "cell_type": "code",
   "execution_count": 29,
   "metadata": {},
   "outputs": [
    {
     "data": {
      "text/plain": [
       "Age bin\n",
       "<10       23\n",
       "10-14     28\n",
       "15-19    136\n",
       "20-24    365\n",
       "25-29    101\n",
       "30-34     73\n",
       "35-39     41\n",
       "40+       13\n",
       "Name: Purchase ID, dtype: int64"
      ]
     },
     "execution_count": 29,
     "metadata": {},
     "output_type": "execute_result"
    }
   ],
   "source": [
    "purchase_age_bin_count = purchase_by_age_bin[\"Purchase ID\"].count()\n",
    "purchase_age_bin_count"
   ]
  },
  {
   "cell_type": "code",
   "execution_count": 30,
   "metadata": {},
   "outputs": [
    {
     "data": {
      "text/plain": [
       "Age bin\n",
       "<10      3.353478\n",
       "10-14    2.956429\n",
       "15-19    3.035956\n",
       "20-24    3.052219\n",
       "25-29    2.900990\n",
       "30-34    2.931507\n",
       "35-39    3.601707\n",
       "40+      2.941538\n",
       "Name: Price, dtype: float64"
      ]
     },
     "execution_count": 30,
     "metadata": {},
     "output_type": "execute_result"
    }
   ],
   "source": [
    "purchase_age_bin_avg_price = purchase_by_age_bin[\"Price\"].mean()\n",
    "purchase_age_bin_avg_price"
   ]
  },
  {
   "cell_type": "code",
   "execution_count": 31,
   "metadata": {},
   "outputs": [
    {
     "data": {
      "text/plain": [
       "Age bin\n",
       "<10        77.13\n",
       "10-14      82.78\n",
       "15-19     412.89\n",
       "20-24    1114.06\n",
       "25-29     293.00\n",
       "30-34     214.00\n",
       "35-39     147.67\n",
       "40+        38.24\n",
       "Name: Price, dtype: float64"
      ]
     },
     "execution_count": 31,
     "metadata": {},
     "output_type": "execute_result"
    }
   ],
   "source": [
    "purchase_age_bin_total_price = purchase_by_age_bin[\"Price\"].sum()\n",
    "purchase_age_bin_total_price"
   ]
  },
  {
   "cell_type": "code",
   "execution_count": 32,
   "metadata": {},
   "outputs": [
    {
     "data": {
      "text/plain": [
       "Age bin\n",
       "<10       17\n",
       "10-14     22\n",
       "15-19    107\n",
       "20-24    258\n",
       "25-29     77\n",
       "30-34     52\n",
       "35-39     31\n",
       "40+       12\n",
       "Name: SN, dtype: int64"
      ]
     },
     "execution_count": 32,
     "metadata": {},
     "output_type": "execute_result"
    }
   ],
   "source": [
    "purchase_age_bin_person_count = purchase_by_age_bin[\"SN\"].nunique()\n",
    "purchase_age_bin_person_count"
   ]
  },
  {
   "cell_type": "code",
   "execution_count": 33,
   "metadata": {},
   "outputs": [
    {
     "data": {
      "text/plain": [
       "Age bin\n",
       "<10      4.537059\n",
       "10-14    3.762727\n",
       "15-19    3.858785\n",
       "20-24    4.318062\n",
       "25-29    3.805195\n",
       "30-34    4.115385\n",
       "35-39    4.763548\n",
       "40+      3.186667\n",
       "dtype: float64"
      ]
     },
     "execution_count": 33,
     "metadata": {},
     "output_type": "execute_result"
    }
   ],
   "source": [
    "purchase_age_bin_total_per_person = purchase_age_bin_total_price/purchase_age_bin_person_count\n",
    "purchase_age_bin_total_per_person"
   ]
  },
  {
   "cell_type": "code",
   "execution_count": 34,
   "metadata": {},
   "outputs": [
    {
     "data": {
      "text/html": [
       "<style  type=\"text/css\" >\n",
       "</style><table id=\"T_b3d42900_c124_11e9_a00c_f48c508b3886\" ><thead>    <tr>        <th class=\"blank level0\" ></th>        <th class=\"col_heading level0 col0\" >Purchase Count</th>        <th class=\"col_heading level0 col1\" >Average Purchase Price</th>        <th class=\"col_heading level0 col2\" >Total Purchase Value</th>        <th class=\"col_heading level0 col3\" >Avg Total Purchase per Person</th>    </tr>    <tr>        <th class=\"index_name level0\" >Age bin</th>        <th class=\"blank\" ></th>        <th class=\"blank\" ></th>        <th class=\"blank\" ></th>        <th class=\"blank\" ></th>    </tr></thead><tbody>\n",
       "                <tr>\n",
       "                        <th id=\"T_b3d42900_c124_11e9_a00c_f48c508b3886level0_row0\" class=\"row_heading level0 row0\" ><10</th>\n",
       "                        <td id=\"T_b3d42900_c124_11e9_a00c_f48c508b3886row0_col0\" class=\"data row0 col0\" >23</td>\n",
       "                        <td id=\"T_b3d42900_c124_11e9_a00c_f48c508b3886row0_col1\" class=\"data row0 col1\" >$3.35</td>\n",
       "                        <td id=\"T_b3d42900_c124_11e9_a00c_f48c508b3886row0_col2\" class=\"data row0 col2\" >$77.13</td>\n",
       "                        <td id=\"T_b3d42900_c124_11e9_a00c_f48c508b3886row0_col3\" class=\"data row0 col3\" >$4.54</td>\n",
       "            </tr>\n",
       "            <tr>\n",
       "                        <th id=\"T_b3d42900_c124_11e9_a00c_f48c508b3886level0_row1\" class=\"row_heading level0 row1\" >10-14</th>\n",
       "                        <td id=\"T_b3d42900_c124_11e9_a00c_f48c508b3886row1_col0\" class=\"data row1 col0\" >28</td>\n",
       "                        <td id=\"T_b3d42900_c124_11e9_a00c_f48c508b3886row1_col1\" class=\"data row1 col1\" >$2.96</td>\n",
       "                        <td id=\"T_b3d42900_c124_11e9_a00c_f48c508b3886row1_col2\" class=\"data row1 col2\" >$82.78</td>\n",
       "                        <td id=\"T_b3d42900_c124_11e9_a00c_f48c508b3886row1_col3\" class=\"data row1 col3\" >$3.76</td>\n",
       "            </tr>\n",
       "            <tr>\n",
       "                        <th id=\"T_b3d42900_c124_11e9_a00c_f48c508b3886level0_row2\" class=\"row_heading level0 row2\" >15-19</th>\n",
       "                        <td id=\"T_b3d42900_c124_11e9_a00c_f48c508b3886row2_col0\" class=\"data row2 col0\" >136</td>\n",
       "                        <td id=\"T_b3d42900_c124_11e9_a00c_f48c508b3886row2_col1\" class=\"data row2 col1\" >$3.04</td>\n",
       "                        <td id=\"T_b3d42900_c124_11e9_a00c_f48c508b3886row2_col2\" class=\"data row2 col2\" >$412.89</td>\n",
       "                        <td id=\"T_b3d42900_c124_11e9_a00c_f48c508b3886row2_col3\" class=\"data row2 col3\" >$3.86</td>\n",
       "            </tr>\n",
       "            <tr>\n",
       "                        <th id=\"T_b3d42900_c124_11e9_a00c_f48c508b3886level0_row3\" class=\"row_heading level0 row3\" >20-24</th>\n",
       "                        <td id=\"T_b3d42900_c124_11e9_a00c_f48c508b3886row3_col0\" class=\"data row3 col0\" >365</td>\n",
       "                        <td id=\"T_b3d42900_c124_11e9_a00c_f48c508b3886row3_col1\" class=\"data row3 col1\" >$3.05</td>\n",
       "                        <td id=\"T_b3d42900_c124_11e9_a00c_f48c508b3886row3_col2\" class=\"data row3 col2\" >$1,114.06</td>\n",
       "                        <td id=\"T_b3d42900_c124_11e9_a00c_f48c508b3886row3_col3\" class=\"data row3 col3\" >$4.32</td>\n",
       "            </tr>\n",
       "            <tr>\n",
       "                        <th id=\"T_b3d42900_c124_11e9_a00c_f48c508b3886level0_row4\" class=\"row_heading level0 row4\" >25-29</th>\n",
       "                        <td id=\"T_b3d42900_c124_11e9_a00c_f48c508b3886row4_col0\" class=\"data row4 col0\" >101</td>\n",
       "                        <td id=\"T_b3d42900_c124_11e9_a00c_f48c508b3886row4_col1\" class=\"data row4 col1\" >$2.90</td>\n",
       "                        <td id=\"T_b3d42900_c124_11e9_a00c_f48c508b3886row4_col2\" class=\"data row4 col2\" >$293.00</td>\n",
       "                        <td id=\"T_b3d42900_c124_11e9_a00c_f48c508b3886row4_col3\" class=\"data row4 col3\" >$3.81</td>\n",
       "            </tr>\n",
       "            <tr>\n",
       "                        <th id=\"T_b3d42900_c124_11e9_a00c_f48c508b3886level0_row5\" class=\"row_heading level0 row5\" >30-34</th>\n",
       "                        <td id=\"T_b3d42900_c124_11e9_a00c_f48c508b3886row5_col0\" class=\"data row5 col0\" >73</td>\n",
       "                        <td id=\"T_b3d42900_c124_11e9_a00c_f48c508b3886row5_col1\" class=\"data row5 col1\" >$2.93</td>\n",
       "                        <td id=\"T_b3d42900_c124_11e9_a00c_f48c508b3886row5_col2\" class=\"data row5 col2\" >$214.00</td>\n",
       "                        <td id=\"T_b3d42900_c124_11e9_a00c_f48c508b3886row5_col3\" class=\"data row5 col3\" >$4.12</td>\n",
       "            </tr>\n",
       "            <tr>\n",
       "                        <th id=\"T_b3d42900_c124_11e9_a00c_f48c508b3886level0_row6\" class=\"row_heading level0 row6\" >35-39</th>\n",
       "                        <td id=\"T_b3d42900_c124_11e9_a00c_f48c508b3886row6_col0\" class=\"data row6 col0\" >41</td>\n",
       "                        <td id=\"T_b3d42900_c124_11e9_a00c_f48c508b3886row6_col1\" class=\"data row6 col1\" >$3.60</td>\n",
       "                        <td id=\"T_b3d42900_c124_11e9_a00c_f48c508b3886row6_col2\" class=\"data row6 col2\" >$147.67</td>\n",
       "                        <td id=\"T_b3d42900_c124_11e9_a00c_f48c508b3886row6_col3\" class=\"data row6 col3\" >$4.76</td>\n",
       "            </tr>\n",
       "            <tr>\n",
       "                        <th id=\"T_b3d42900_c124_11e9_a00c_f48c508b3886level0_row7\" class=\"row_heading level0 row7\" >40+</th>\n",
       "                        <td id=\"T_b3d42900_c124_11e9_a00c_f48c508b3886row7_col0\" class=\"data row7 col0\" >13</td>\n",
       "                        <td id=\"T_b3d42900_c124_11e9_a00c_f48c508b3886row7_col1\" class=\"data row7 col1\" >$2.94</td>\n",
       "                        <td id=\"T_b3d42900_c124_11e9_a00c_f48c508b3886row7_col2\" class=\"data row7 col2\" >$38.24</td>\n",
       "                        <td id=\"T_b3d42900_c124_11e9_a00c_f48c508b3886row7_col3\" class=\"data row7 col3\" >$3.19</td>\n",
       "            </tr>\n",
       "    </tbody></table>"
      ],
      "text/plain": [
       "<pandas.io.formats.style.Styler at 0x930b4a8>"
      ]
     },
     "execution_count": 34,
     "metadata": {},
     "output_type": "execute_result"
    }
   ],
   "source": [
    "purchasing_age_df = pd.DataFrame({\"Purchase Count\": purchase_age_bin_count,\n",
    "                                  \"Average Purchase Price\": purchase_age_bin_avg_price,\n",
    "                                  \"Total Purchase Value\": purchase_age_bin_total_price,\n",
    "                                  \"Avg Total Purchase per Person\": purchase_age_bin_total_per_person\n",
    "                                  })\n",
    "purchasing_age_df.style.format({\"Average Purchase Price\": \"${:,.2f}\",\n",
    "                               \"Total Purchase Value\": \"${:,.2f}\",\n",
    "                                \"Avg Total Purchase per Person\": \"${:,.2f}\",\n",
    "                               })"
   ]
  },
  {
   "cell_type": "markdown",
   "metadata": {},
   "source": [
    "## Top Spenders"
   ]
  },
  {
   "cell_type": "markdown",
   "metadata": {},
   "source": [
    "* Run basic calculations to obtain the results in the table below\n",
    "\n",
    "\n",
    "* Create a summary data frame to hold the results\n",
    "\n",
    "\n",
    "* Sort the total purchase value column in descending order\n",
    "\n",
    "\n",
    "* Optional: give the displayed data cleaner formatting\n",
    "\n",
    "\n",
    "* Display a preview of the summary data frame\n",
    "\n"
   ]
  },
  {
   "cell_type": "code",
   "execution_count": 35,
   "metadata": {},
   "outputs": [],
   "source": [
    "purchase_by_sn = purchase_data.groupby([\"SN\"])"
   ]
  },
  {
   "cell_type": "code",
   "execution_count": 36,
   "metadata": {},
   "outputs": [
    {
     "data": {
      "text/plain": [
       "SN\n",
       "Adairialis76    1\n",
       "Adastirin33     1\n",
       "Aeda94          1\n",
       "Aela59          1\n",
       "Aelaria33       1\n",
       "Name: Purchase ID, dtype: int64"
      ]
     },
     "execution_count": 36,
     "metadata": {},
     "output_type": "execute_result"
    }
   ],
   "source": [
    "purchase_by_sn_count = purchase_by_sn[\"Purchase ID\"].count()\n",
    "purchase_by_sn_count.head()"
   ]
  },
  {
   "cell_type": "code",
   "execution_count": 37,
   "metadata": {},
   "outputs": [
    {
     "data": {
      "text/plain": [
       "SN\n",
       "Adairialis76    2.28\n",
       "Adastirin33     4.48\n",
       "Aeda94          4.91\n",
       "Aela59          4.32\n",
       "Aelaria33       1.79\n",
       "Name: Price, dtype: float64"
      ]
     },
     "execution_count": 37,
     "metadata": {},
     "output_type": "execute_result"
    }
   ],
   "source": [
    "purchase_by_sn_avg_price = purchase_by_sn[\"Price\"].mean()\n",
    "purchase_by_sn_avg_price.head()"
   ]
  },
  {
   "cell_type": "code",
   "execution_count": 38,
   "metadata": {},
   "outputs": [
    {
     "data": {
      "text/plain": [
       "SN\n",
       "Adairialis76    2.28\n",
       "Adastirin33     4.48\n",
       "Aeda94          4.91\n",
       "Aela59          4.32\n",
       "Aelaria33       1.79\n",
       "Name: Price, dtype: float64"
      ]
     },
     "execution_count": 38,
     "metadata": {},
     "output_type": "execute_result"
    }
   ],
   "source": [
    "purchase_by_sn_total_price = purchase_by_sn[\"Price\"].sum()\n",
    "purchase_by_sn_total_price.head()"
   ]
  },
  {
   "cell_type": "code",
   "execution_count": 39,
   "metadata": {},
   "outputs": [
    {
     "data": {
      "text/html": [
       "<style  type=\"text/css\" >\n",
       "</style><table id=\"T_b72cf0f0_c124_11e9_85f6_f48c508b3886\" ><thead>    <tr>        <th class=\"blank level0\" ></th>        <th class=\"col_heading level0 col0\" >Purchase Count</th>        <th class=\"col_heading level0 col1\" >Average Purchase Price</th>        <th class=\"col_heading level0 col2\" >Total Purchase Value</th>    </tr>    <tr>        <th class=\"index_name level0\" >SN</th>        <th class=\"blank\" ></th>        <th class=\"blank\" ></th>        <th class=\"blank\" ></th>    </tr></thead><tbody>\n",
       "                <tr>\n",
       "                        <th id=\"T_b72cf0f0_c124_11e9_85f6_f48c508b3886level0_row0\" class=\"row_heading level0 row0\" >Lisosia93</th>\n",
       "                        <td id=\"T_b72cf0f0_c124_11e9_85f6_f48c508b3886row0_col0\" class=\"data row0 col0\" >5</td>\n",
       "                        <td id=\"T_b72cf0f0_c124_11e9_85f6_f48c508b3886row0_col1\" class=\"data row0 col1\" >$3.79</td>\n",
       "                        <td id=\"T_b72cf0f0_c124_11e9_85f6_f48c508b3886row0_col2\" class=\"data row0 col2\" >$18.96</td>\n",
       "            </tr>\n",
       "            <tr>\n",
       "                        <th id=\"T_b72cf0f0_c124_11e9_85f6_f48c508b3886level0_row1\" class=\"row_heading level0 row1\" >Idastidru52</th>\n",
       "                        <td id=\"T_b72cf0f0_c124_11e9_85f6_f48c508b3886row1_col0\" class=\"data row1 col0\" >4</td>\n",
       "                        <td id=\"T_b72cf0f0_c124_11e9_85f6_f48c508b3886row1_col1\" class=\"data row1 col1\" >$3.86</td>\n",
       "                        <td id=\"T_b72cf0f0_c124_11e9_85f6_f48c508b3886row1_col2\" class=\"data row1 col2\" >$15.45</td>\n",
       "            </tr>\n",
       "            <tr>\n",
       "                        <th id=\"T_b72cf0f0_c124_11e9_85f6_f48c508b3886level0_row2\" class=\"row_heading level0 row2\" >Chamjask73</th>\n",
       "                        <td id=\"T_b72cf0f0_c124_11e9_85f6_f48c508b3886row2_col0\" class=\"data row2 col0\" >3</td>\n",
       "                        <td id=\"T_b72cf0f0_c124_11e9_85f6_f48c508b3886row2_col1\" class=\"data row2 col1\" >$4.61</td>\n",
       "                        <td id=\"T_b72cf0f0_c124_11e9_85f6_f48c508b3886row2_col2\" class=\"data row2 col2\" >$13.83</td>\n",
       "            </tr>\n",
       "            <tr>\n",
       "                        <th id=\"T_b72cf0f0_c124_11e9_85f6_f48c508b3886level0_row3\" class=\"row_heading level0 row3\" >Iral74</th>\n",
       "                        <td id=\"T_b72cf0f0_c124_11e9_85f6_f48c508b3886row3_col0\" class=\"data row3 col0\" >4</td>\n",
       "                        <td id=\"T_b72cf0f0_c124_11e9_85f6_f48c508b3886row3_col1\" class=\"data row3 col1\" >$3.40</td>\n",
       "                        <td id=\"T_b72cf0f0_c124_11e9_85f6_f48c508b3886row3_col2\" class=\"data row3 col2\" >$13.62</td>\n",
       "            </tr>\n",
       "            <tr>\n",
       "                        <th id=\"T_b72cf0f0_c124_11e9_85f6_f48c508b3886level0_row4\" class=\"row_heading level0 row4\" >Iskadarya95</th>\n",
       "                        <td id=\"T_b72cf0f0_c124_11e9_85f6_f48c508b3886row4_col0\" class=\"data row4 col0\" >3</td>\n",
       "                        <td id=\"T_b72cf0f0_c124_11e9_85f6_f48c508b3886row4_col1\" class=\"data row4 col1\" >$4.37</td>\n",
       "                        <td id=\"T_b72cf0f0_c124_11e9_85f6_f48c508b3886row4_col2\" class=\"data row4 col2\" >$13.10</td>\n",
       "            </tr>\n",
       "    </tbody></table>"
      ],
      "text/plain": [
       "<pandas.io.formats.style.Styler at 0x930bb70>"
      ]
     },
     "execution_count": 39,
     "metadata": {},
     "output_type": "execute_result"
    }
   ],
   "source": [
    "top_spenders_df = pd.DataFrame({\"Purchase Count\": purchase_by_sn_count,\n",
    "                                  \"Average Purchase Price\": purchase_by_sn_avg_price,\n",
    "                                  \"Total Purchase Value\": purchase_by_sn_total_price\n",
    "                                  })\n",
    "top_spenders_df = top_spenders_df.sort_values(\"Total Purchase Value\",ascending=False)\n",
    "top_spenders_df.head().style.format({\"Average Purchase Price\": \"${:,.2f}\",\n",
    "                               \"Total Purchase Value\": \"${:,.2f}\",\n",
    "                               })"
   ]
  },
  {
   "cell_type": "markdown",
   "metadata": {},
   "source": [
    "## Most Popular Items"
   ]
  },
  {
   "cell_type": "markdown",
   "metadata": {},
   "source": [
    "* Retrieve the Item ID, Item Name, and Item Price columns\n",
    "\n",
    "\n",
    "* Group by Item ID and Item Name. Perform calculations to obtain purchase count, item price, and total purchase value\n",
    "\n",
    "\n",
    "* Create a summary data frame to hold the results\n",
    "\n",
    "\n",
    "* Sort the purchase count column in descending order\n",
    "\n",
    "\n",
    "* Optional: give the displayed data cleaner formatting\n",
    "\n",
    "\n",
    "* Display a preview of the summary data frame\n",
    "\n"
   ]
  },
  {
   "cell_type": "code",
   "execution_count": 42,
   "metadata": {},
   "outputs": [
    {
     "data": {
      "text/html": [
       "<div>\n",
       "<style scoped>\n",
       "    .dataframe tbody tr th:only-of-type {\n",
       "        vertical-align: middle;\n",
       "    }\n",
       "\n",
       "    .dataframe tbody tr th {\n",
       "        vertical-align: top;\n",
       "    }\n",
       "\n",
       "    .dataframe thead th {\n",
       "        text-align: right;\n",
       "    }\n",
       "</style>\n",
       "<table border=\"1\" class=\"dataframe\">\n",
       "  <thead>\n",
       "    <tr style=\"text-align: right;\">\n",
       "      <th></th>\n",
       "      <th>Item ID</th>\n",
       "      <th>Item Name</th>\n",
       "      <th>Price</th>\n",
       "    </tr>\n",
       "  </thead>\n",
       "  <tbody>\n",
       "    <tr>\n",
       "      <th>0</th>\n",
       "      <td>108</td>\n",
       "      <td>Extraction, Quickblade Of Trembling Hands</td>\n",
       "      <td>3.53</td>\n",
       "    </tr>\n",
       "    <tr>\n",
       "      <th>1</th>\n",
       "      <td>143</td>\n",
       "      <td>Frenzied Scimitar</td>\n",
       "      <td>1.56</td>\n",
       "    </tr>\n",
       "    <tr>\n",
       "      <th>2</th>\n",
       "      <td>92</td>\n",
       "      <td>Final Critic</td>\n",
       "      <td>4.88</td>\n",
       "    </tr>\n",
       "    <tr>\n",
       "      <th>3</th>\n",
       "      <td>100</td>\n",
       "      <td>Blindscythe</td>\n",
       "      <td>3.27</td>\n",
       "    </tr>\n",
       "    <tr>\n",
       "      <th>4</th>\n",
       "      <td>131</td>\n",
       "      <td>Fury</td>\n",
       "      <td>1.44</td>\n",
       "    </tr>\n",
       "  </tbody>\n",
       "</table>\n",
       "</div>"
      ],
      "text/plain": [
       "   Item ID                                  Item Name  Price\n",
       "0      108  Extraction, Quickblade Of Trembling Hands   3.53\n",
       "1      143                          Frenzied Scimitar   1.56\n",
       "2       92                               Final Critic   4.88\n",
       "3      100                                Blindscythe   3.27\n",
       "4      131                                       Fury   1.44"
      ]
     },
     "execution_count": 42,
     "metadata": {},
     "output_type": "execute_result"
    }
   ],
   "source": [
    "item_data = purchase_data[[\"Item ID\",\"Item Name\",\"Price\"]]\n",
    "item_data.head()"
   ]
  },
  {
   "cell_type": "code",
   "execution_count": 43,
   "metadata": {},
   "outputs": [],
   "source": [
    "group_item = item_data.groupby([\"Item ID\",\"Item Name\"])"
   ]
  },
  {
   "cell_type": "code",
   "execution_count": 44,
   "metadata": {},
   "outputs": [
    {
     "data": {
      "text/plain": [
       "Item ID  Item Name         \n",
       "0        Splinter              4\n",
       "1        Crucifer              3\n",
       "2        Verdict               6\n",
       "3        Phantomlight          6\n",
       "4        Bloodlord's Fetish    5\n",
       "Name: Item ID, dtype: int64"
      ]
     },
     "execution_count": 44,
     "metadata": {},
     "output_type": "execute_result"
    }
   ],
   "source": [
    "item_purchase_count = group_item[\"Item ID\"].count()\n",
    "item_purchase_count.head()"
   ]
  },
  {
   "cell_type": "code",
   "execution_count": 45,
   "metadata": {},
   "outputs": [
    {
     "data": {
      "text/plain": [
       "Item ID  Item Name         \n",
       "0        Splinter              1.28\n",
       "1        Crucifer              3.26\n",
       "2        Verdict               2.48\n",
       "3        Phantomlight          2.49\n",
       "4        Bloodlord's Fetish    1.70\n",
       "Name: Price, dtype: float64"
      ]
     },
     "execution_count": 45,
     "metadata": {},
     "output_type": "execute_result"
    }
   ],
   "source": [
    "item_purchase_price = group_item[\"Price\"].mean()\n",
    "item_purchase_price.head()"
   ]
  },
  {
   "cell_type": "code",
   "execution_count": 46,
   "metadata": {},
   "outputs": [
    {
     "data": {
      "text/plain": [
       "Item ID  Item Name         \n",
       "0        Splinter               5.12\n",
       "1        Crucifer               9.78\n",
       "2        Verdict               14.88\n",
       "3        Phantomlight          14.94\n",
       "4        Bloodlord's Fetish     8.50\n",
       "Name: Price, dtype: float64"
      ]
     },
     "execution_count": 46,
     "metadata": {},
     "output_type": "execute_result"
    }
   ],
   "source": [
    "item_purchase_total = group_item[\"Price\"].sum()\n",
    "item_purchase_total.head()"
   ]
  },
  {
   "cell_type": "code",
   "execution_count": 47,
   "metadata": {},
   "outputs": [],
   "source": [
    "popular_df = pd.DataFrame({\"Purchase Count\": item_purchase_count,\n",
    "                                  \"Item Price\": item_purchase_price,\n",
    "                                  \"Total Purchase Value\": item_purchase_total\n",
    "                                  })\n"
   ]
  },
  {
   "cell_type": "code",
   "execution_count": 48,
   "metadata": {},
   "outputs": [
    {
     "data": {
      "text/html": [
       "<style  type=\"text/css\" >\n",
       "</style><table id=\"T_cc0a95e2_c124_11e9_863b_f48c508b3886\" ><thead>    <tr>        <th class=\"blank\" ></th>        <th class=\"blank level0\" ></th>        <th class=\"col_heading level0 col0\" >Purchase Count</th>        <th class=\"col_heading level0 col1\" >Item Price</th>        <th class=\"col_heading level0 col2\" >Total Purchase Value</th>    </tr>    <tr>        <th class=\"index_name level0\" >Item ID</th>        <th class=\"index_name level1\" >Item Name</th>        <th class=\"blank\" ></th>        <th class=\"blank\" ></th>        <th class=\"blank\" ></th>    </tr></thead><tbody>\n",
       "                <tr>\n",
       "                        <th id=\"T_cc0a95e2_c124_11e9_863b_f48c508b3886level0_row0\" class=\"row_heading level0 row0\" >178</th>\n",
       "                        <th id=\"T_cc0a95e2_c124_11e9_863b_f48c508b3886level1_row0\" class=\"row_heading level1 row0\" >Oathbreaker, Last Hope of the Breaking Storm</th>\n",
       "                        <td id=\"T_cc0a95e2_c124_11e9_863b_f48c508b3886row0_col0\" class=\"data row0 col0\" >12</td>\n",
       "                        <td id=\"T_cc0a95e2_c124_11e9_863b_f48c508b3886row0_col1\" class=\"data row0 col1\" >$4.23</td>\n",
       "                        <td id=\"T_cc0a95e2_c124_11e9_863b_f48c508b3886row0_col2\" class=\"data row0 col2\" >$50.76</td>\n",
       "            </tr>\n",
       "            <tr>\n",
       "                        <th id=\"T_cc0a95e2_c124_11e9_863b_f48c508b3886level0_row1\" class=\"row_heading level0 row1\" >145</th>\n",
       "                        <th id=\"T_cc0a95e2_c124_11e9_863b_f48c508b3886level1_row1\" class=\"row_heading level1 row1\" >Fiery Glass Crusader</th>\n",
       "                        <td id=\"T_cc0a95e2_c124_11e9_863b_f48c508b3886row1_col0\" class=\"data row1 col0\" >9</td>\n",
       "                        <td id=\"T_cc0a95e2_c124_11e9_863b_f48c508b3886row1_col1\" class=\"data row1 col1\" >$4.58</td>\n",
       "                        <td id=\"T_cc0a95e2_c124_11e9_863b_f48c508b3886row1_col2\" class=\"data row1 col2\" >$41.22</td>\n",
       "            </tr>\n",
       "            <tr>\n",
       "                        <th id=\"T_cc0a95e2_c124_11e9_863b_f48c508b3886level0_row2\" class=\"row_heading level0 row2\" >108</th>\n",
       "                        <th id=\"T_cc0a95e2_c124_11e9_863b_f48c508b3886level1_row2\" class=\"row_heading level1 row2\" >Extraction, Quickblade Of Trembling Hands</th>\n",
       "                        <td id=\"T_cc0a95e2_c124_11e9_863b_f48c508b3886row2_col0\" class=\"data row2 col0\" >9</td>\n",
       "                        <td id=\"T_cc0a95e2_c124_11e9_863b_f48c508b3886row2_col1\" class=\"data row2 col1\" >$3.53</td>\n",
       "                        <td id=\"T_cc0a95e2_c124_11e9_863b_f48c508b3886row2_col2\" class=\"data row2 col2\" >$31.77</td>\n",
       "            </tr>\n",
       "            <tr>\n",
       "                        <th id=\"T_cc0a95e2_c124_11e9_863b_f48c508b3886level0_row3\" class=\"row_heading level0 row3\" >82</th>\n",
       "                        <th id=\"T_cc0a95e2_c124_11e9_863b_f48c508b3886level1_row3\" class=\"row_heading level1 row3\" >Nirvana</th>\n",
       "                        <td id=\"T_cc0a95e2_c124_11e9_863b_f48c508b3886row3_col0\" class=\"data row3 col0\" >9</td>\n",
       "                        <td id=\"T_cc0a95e2_c124_11e9_863b_f48c508b3886row3_col1\" class=\"data row3 col1\" >$4.90</td>\n",
       "                        <td id=\"T_cc0a95e2_c124_11e9_863b_f48c508b3886row3_col2\" class=\"data row3 col2\" >$44.10</td>\n",
       "            </tr>\n",
       "            <tr>\n",
       "                        <th id=\"T_cc0a95e2_c124_11e9_863b_f48c508b3886level0_row4\" class=\"row_heading level0 row4\" >19</th>\n",
       "                        <th id=\"T_cc0a95e2_c124_11e9_863b_f48c508b3886level1_row4\" class=\"row_heading level1 row4\" >Pursuit, Cudgel of Necromancy</th>\n",
       "                        <td id=\"T_cc0a95e2_c124_11e9_863b_f48c508b3886row4_col0\" class=\"data row4 col0\" >8</td>\n",
       "                        <td id=\"T_cc0a95e2_c124_11e9_863b_f48c508b3886row4_col1\" class=\"data row4 col1\" >$1.02</td>\n",
       "                        <td id=\"T_cc0a95e2_c124_11e9_863b_f48c508b3886row4_col2\" class=\"data row4 col2\" >$8.16</td>\n",
       "            </tr>\n",
       "    </tbody></table>"
      ],
      "text/plain": [
       "<pandas.io.formats.style.Styler at 0x97e44e0>"
      ]
     },
     "execution_count": 48,
     "metadata": {},
     "output_type": "execute_result"
    }
   ],
   "source": [
    "popular_df = popular_df.sort_values(\"Purchase Count\",ascending=False)\n",
    "popular_df.head().style.format({\"Item Price\": \"${:,.2f}\",\n",
    "                               \"Total Purchase Value\": \"${:,.2f}\",\n",
    "                               })\n"
   ]
  },
  {
   "cell_type": "markdown",
   "metadata": {},
   "source": [
    "## Most Profitable Items"
   ]
  },
  {
   "cell_type": "markdown",
   "metadata": {},
   "source": [
    "* Sort the above table by total purchase value in descending order\n",
    "\n",
    "\n",
    "* Optional: give the displayed data cleaner formatting\n",
    "\n",
    "\n",
    "* Display a preview of the data frame\n",
    "\n"
   ]
  },
  {
   "cell_type": "code",
   "execution_count": 49,
   "metadata": {},
   "outputs": [
    {
     "data": {
      "text/html": [
       "<style  type=\"text/css\" >\n",
       "</style><table id=\"T_d29def62_c124_11e9_93a7_f48c508b3886\" ><thead>    <tr>        <th class=\"blank\" ></th>        <th class=\"blank level0\" ></th>        <th class=\"col_heading level0 col0\" >Purchase Count</th>        <th class=\"col_heading level0 col1\" >Item Price</th>        <th class=\"col_heading level0 col2\" >Total Purchase Value</th>    </tr>    <tr>        <th class=\"index_name level0\" >Item ID</th>        <th class=\"index_name level1\" >Item Name</th>        <th class=\"blank\" ></th>        <th class=\"blank\" ></th>        <th class=\"blank\" ></th>    </tr></thead><tbody>\n",
       "                <tr>\n",
       "                        <th id=\"T_d29def62_c124_11e9_93a7_f48c508b3886level0_row0\" class=\"row_heading level0 row0\" >178</th>\n",
       "                        <th id=\"T_d29def62_c124_11e9_93a7_f48c508b3886level1_row0\" class=\"row_heading level1 row0\" >Oathbreaker, Last Hope of the Breaking Storm</th>\n",
       "                        <td id=\"T_d29def62_c124_11e9_93a7_f48c508b3886row0_col0\" class=\"data row0 col0\" >12</td>\n",
       "                        <td id=\"T_d29def62_c124_11e9_93a7_f48c508b3886row0_col1\" class=\"data row0 col1\" >$4.23</td>\n",
       "                        <td id=\"T_d29def62_c124_11e9_93a7_f48c508b3886row0_col2\" class=\"data row0 col2\" >$50.76</td>\n",
       "            </tr>\n",
       "            <tr>\n",
       "                        <th id=\"T_d29def62_c124_11e9_93a7_f48c508b3886level0_row1\" class=\"row_heading level0 row1\" >82</th>\n",
       "                        <th id=\"T_d29def62_c124_11e9_93a7_f48c508b3886level1_row1\" class=\"row_heading level1 row1\" >Nirvana</th>\n",
       "                        <td id=\"T_d29def62_c124_11e9_93a7_f48c508b3886row1_col0\" class=\"data row1 col0\" >9</td>\n",
       "                        <td id=\"T_d29def62_c124_11e9_93a7_f48c508b3886row1_col1\" class=\"data row1 col1\" >$4.90</td>\n",
       "                        <td id=\"T_d29def62_c124_11e9_93a7_f48c508b3886row1_col2\" class=\"data row1 col2\" >$44.10</td>\n",
       "            </tr>\n",
       "            <tr>\n",
       "                        <th id=\"T_d29def62_c124_11e9_93a7_f48c508b3886level0_row2\" class=\"row_heading level0 row2\" >145</th>\n",
       "                        <th id=\"T_d29def62_c124_11e9_93a7_f48c508b3886level1_row2\" class=\"row_heading level1 row2\" >Fiery Glass Crusader</th>\n",
       "                        <td id=\"T_d29def62_c124_11e9_93a7_f48c508b3886row2_col0\" class=\"data row2 col0\" >9</td>\n",
       "                        <td id=\"T_d29def62_c124_11e9_93a7_f48c508b3886row2_col1\" class=\"data row2 col1\" >$4.58</td>\n",
       "                        <td id=\"T_d29def62_c124_11e9_93a7_f48c508b3886row2_col2\" class=\"data row2 col2\" >$41.22</td>\n",
       "            </tr>\n",
       "            <tr>\n",
       "                        <th id=\"T_d29def62_c124_11e9_93a7_f48c508b3886level0_row3\" class=\"row_heading level0 row3\" >92</th>\n",
       "                        <th id=\"T_d29def62_c124_11e9_93a7_f48c508b3886level1_row3\" class=\"row_heading level1 row3\" >Final Critic</th>\n",
       "                        <td id=\"T_d29def62_c124_11e9_93a7_f48c508b3886row3_col0\" class=\"data row3 col0\" >8</td>\n",
       "                        <td id=\"T_d29def62_c124_11e9_93a7_f48c508b3886row3_col1\" class=\"data row3 col1\" >$4.88</td>\n",
       "                        <td id=\"T_d29def62_c124_11e9_93a7_f48c508b3886row3_col2\" class=\"data row3 col2\" >$39.04</td>\n",
       "            </tr>\n",
       "            <tr>\n",
       "                        <th id=\"T_d29def62_c124_11e9_93a7_f48c508b3886level0_row4\" class=\"row_heading level0 row4\" >103</th>\n",
       "                        <th id=\"T_d29def62_c124_11e9_93a7_f48c508b3886level1_row4\" class=\"row_heading level1 row4\" >Singed Scalpel</th>\n",
       "                        <td id=\"T_d29def62_c124_11e9_93a7_f48c508b3886row4_col0\" class=\"data row4 col0\" >8</td>\n",
       "                        <td id=\"T_d29def62_c124_11e9_93a7_f48c508b3886row4_col1\" class=\"data row4 col1\" >$4.35</td>\n",
       "                        <td id=\"T_d29def62_c124_11e9_93a7_f48c508b3886row4_col2\" class=\"data row4 col2\" >$34.80</td>\n",
       "            </tr>\n",
       "    </tbody></table>"
      ],
      "text/plain": [
       "<pandas.io.formats.style.Styler at 0x930bd30>"
      ]
     },
     "execution_count": 49,
     "metadata": {},
     "output_type": "execute_result"
    }
   ],
   "source": [
    "popular_sorted_df = popular_df.sort_values(\"Total Purchase Value\",ascending=False)\n",
    "popular_sorted_df.head().style.format({\"Item Price\": \"${:,.2f}\",\n",
    "                               \"Total Purchase Value\": \"${:,.2f}\",\n",
    "                               })\n"
   ]
  },
  {
   "cell_type": "code",
   "execution_count": null,
   "metadata": {},
   "outputs": [],
   "source": []
  }
 ],
 "metadata": {
  "anaconda-cloud": {},
  "kernel_info": {
   "name": "python3"
  },
  "kernelspec": {
   "display_name": "Conda [PythonData]",
   "language": "python",
   "name": "pythondata"
  },
  "language_info": {
   "codemirror_mode": {
    "name": "ipython",
    "version": 3
   },
   "file_extension": ".py",
   "mimetype": "text/x-python",
   "name": "python",
   "nbconvert_exporter": "python",
   "pygments_lexer": "ipython3",
   "version": "3.7.3"
  },
  "latex_envs": {
   "LaTeX_envs_menu_present": true,
   "autoclose": false,
   "autocomplete": true,
   "bibliofile": "biblio.bib",
   "cite_by": "apalike",
   "current_citInitial": 1,
   "eqLabelWithNumbers": true,
   "eqNumInitial": 1,
   "hotkeys": {
    "equation": "Ctrl-E",
    "itemize": "Ctrl-I"
   },
   "labels_anchors": false,
   "latex_user_defs": false,
   "report_style_numbering": false,
   "user_envs_cfg": false
  },
  "nteract": {
   "version": "0.2.0"
  }
 },
 "nbformat": 4,
 "nbformat_minor": 2
}
